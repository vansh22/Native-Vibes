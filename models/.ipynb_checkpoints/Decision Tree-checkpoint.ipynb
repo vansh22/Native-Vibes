{
 "cells": [
  {
   "cell_type": "code",
   "execution_count": 1,
   "id": "10ac2955",
   "metadata": {},
   "outputs": [],
   "source": [
    "import pandas as pd\n",
    "from sklearn.tree import DecisionTreeClassifier, plot_tree\n",
    "from sklearn.preprocessing import OneHotEncoder"
   ]
  },
  {
   "cell_type": "code",
   "execution_count": 2,
   "id": "c7d80b42",
   "metadata": {},
   "outputs": [],
   "source": [
    "data = pd.read_csv(\"indian_tourist_locations.csv\")"
   ]
  },
  {
   "cell_type": "code",
   "execution_count": 3,
   "id": "ec9a3314",
   "metadata": {},
   "outputs": [],
   "source": [
    "X = data.drop('destination', axis=1)\n",
    "y = data['destination']\n",
    "\n",
    "features = [\"type\", \"region\", \"budget\", \"outdoor_activity\", \"indoor_activity\", \"historical_attraction\", \"modern_attraction\", \"beach\", \"mountain\"]\n",
    "encoder = OneHotEncoder(handle_unknown='ignore')\n",
    "X_encoded = pd.DataFrame(encoder.fit_transform(X[features]).toarray(), columns=encoder.get_feature_names_out(features))\n",
    "\n",
    "# Concatenate the encoded categorical variables with the numerical variables\n",
    "X = pd.concat([X_encoded, X.drop(features, axis=1)], axis=1)"
   ]
  },
  {
   "cell_type": "code",
   "execution_count": 4,
   "id": "80b3d451",
   "metadata": {},
   "outputs": [
    {
     "data": {
      "text/plain": [
       "DecisionTreeClassifier()"
      ]
     },
     "execution_count": 4,
     "metadata": {},
     "output_type": "execute_result"
    }
   ],
   "source": [
    "# Train the decision tree model\n",
    "model = DecisionTreeClassifier()\n",
    "model.fit(X, y)"
   ]
  },
  {
   "cell_type": "code",
   "execution_count": 5,
   "id": "4c93612b",
   "metadata": {},
   "outputs": [
    {
     "data": {
      "text/plain": [
       "[Text(222.2176056338028, 206.56799999999998, 'X[8] <= 0.5\\ngini = 0.967\\nsamples = 30\\nvalue = [1, 1, 1, 1, 1, 1, 1, 1, 1, 1, 1, 1, 1, 1\\n1, 1, 1, 1, 1, 1, 1, 1, 1, 1, 1, 1, 1, 1\\n1, 1]'),\n",
       " Text(152.07464788732395, 184.824, 'X[24] <= 0.5\\ngini = 0.95\\nsamples = 20\\nvalue = [1, 1, 1, 1, 0, 1, 1, 1, 1, 1, 0, 1, 1, 1\\n0, 0, 0, 1, 1, 1, 1, 1, 1, 0, 0, 0, 1, 0\\n1, 0]'),\n",
       " Text(110.81408450704225, 163.07999999999998, 'X[12] <= 0.5\\ngini = 0.929\\nsamples = 14\\nvalue = [1, 1, 1, 1, 0, 1, 0, 1, 1, 0, 0, 0, 1, 1\\n0, 0, 0, 1, 0, 0, 1, 1, 0, 0, 0, 0, 1, 0\\n1, 0]'),\n",
       " Text(101.3830985915493, 141.336, 'X[29] <= 0.5\\ngini = 0.923\\nsamples = 13\\nvalue = [1, 1, 1, 1, 0, 1, 0, 1, 1, 0, 0, 0, 1, 0\\n0, 0, 0, 1, 0, 0, 1, 1, 0, 0, 0, 0, 1, 0\\n1, 0]'),\n",
       " Text(91.95211267605633, 119.592, 'X[28] <= 0.5\\ngini = 0.917\\nsamples = 12\\nvalue = [1, 1, 1, 1, 0, 1, 0, 1, 1, 0, 0, 0, 1, 0\\n0, 0, 0, 1, 0, 0, 0, 1, 0, 0, 0, 0, 1, 0\\n1, 0]'),\n",
       " Text(47.154929577464785, 97.848, 'X[23] <= 0.5\\ngini = 0.8\\nsamples = 5\\nvalue = [0, 0, 1, 1, 0, 1, 0, 1, 0, 0, 0, 0, 0, 0\\n0, 0, 0, 0, 0, 0, 0, 0, 0, 0, 0, 0, 1, 0\\n0, 0]'),\n",
       " Text(37.72394366197183, 76.10399999999998, 'X[1] <= 0.5\\ngini = 0.75\\nsamples = 4\\nvalue = [0, 0, 1, 1, 0, 1, 0, 0, 0, 0, 0, 0, 0, 0\\n0, 0, 0, 0, 0, 0, 0, 0, 0, 0, 0, 0, 1, 0\\n0, 0]'),\n",
       " Text(18.861971830985915, 54.360000000000014, 'X[2] <= 0.5\\ngini = 0.5\\nsamples = 2\\nvalue = [0, 0, 0, 1, 0, 0, 0, 0, 0, 0, 0, 0, 0, 0\\n0, 0, 0, 0, 0, 0, 0, 0, 0, 0, 0, 0, 1, 0\\n0, 0]'),\n",
       " Text(9.430985915492958, 32.615999999999985, 'gini = 0.0\\nsamples = 1\\nvalue = [0, 0, 0, 0, 0, 0, 0, 0, 0, 0, 0, 0, 0, 0\\n0, 0, 0, 0, 0, 0, 0, 0, 0, 0, 0, 0, 1, 0\\n0, 0]'),\n",
       " Text(28.292957746478873, 32.615999999999985, 'gini = 0.0\\nsamples = 1\\nvalue = [0, 0, 0, 1, 0, 0, 0, 0, 0, 0, 0, 0, 0, 0\\n0, 0, 0, 0, 0, 0, 0, 0, 0, 0, 0, 0, 0, 0\\n0, 0]'),\n",
       " Text(56.585915492957746, 54.360000000000014, 'X[34] <= 0.5\\ngini = 0.5\\nsamples = 2\\nvalue = [0, 0, 1, 0, 0, 1, 0, 0, 0, 0, 0, 0, 0, 0\\n0, 0, 0, 0, 0, 0, 0, 0, 0, 0, 0, 0, 0, 0\\n0, 0]'),\n",
       " Text(47.154929577464785, 32.615999999999985, 'gini = 0.0\\nsamples = 1\\nvalue = [0, 0, 0, 0, 0, 1, 0, 0, 0, 0, 0, 0, 0, 0\\n0, 0, 0, 0, 0, 0, 0, 0, 0, 0, 0, 0, 0, 0\\n0, 0]'),\n",
       " Text(66.0169014084507, 32.615999999999985, 'gini = 0.0\\nsamples = 1\\nvalue = [0, 0, 1, 0, 0, 0, 0, 0, 0, 0, 0, 0, 0, 0\\n0, 0, 0, 0, 0, 0, 0, 0, 0, 0, 0, 0, 0, 0\\n0, 0]'),\n",
       " Text(56.585915492957746, 76.10399999999998, 'gini = 0.0\\nsamples = 1\\nvalue = [0, 0, 0, 0, 0, 0, 0, 1, 0, 0, 0, 0, 0, 0\\n0, 0, 0, 0, 0, 0, 0, 0, 0, 0, 0, 0, 0, 0\\n0, 0]'),\n",
       " Text(136.7492957746479, 97.848, 'X[6] <= 0.5\\ngini = 0.857\\nsamples = 7\\nvalue = [1, 1, 0, 0, 0, 0, 0, 0, 1, 0, 0, 0, 1, 0\\n0, 0, 0, 1, 0, 0, 0, 1, 0, 0, 0, 0, 0, 0\\n1, 0]'),\n",
       " Text(113.17183098591549, 76.10399999999998, 'X[22] <= 0.5\\ngini = 0.8\\nsamples = 5\\nvalue = [1, 0, 0, 0, 0, 0, 0, 0, 1, 0, 0, 0, 1, 0\\n0, 0, 0, 1, 0, 0, 0, 0, 0, 0, 0, 0, 0, 0\\n1, 0]'),\n",
       " Text(94.30985915492957, 54.360000000000014, 'X[14] <= 0.5\\ngini = 0.5\\nsamples = 2\\nvalue = [0, 0, 0, 0, 0, 0, 0, 0, 0, 0, 0, 0, 0, 0\\n0, 0, 0, 1, 0, 0, 0, 0, 0, 0, 0, 0, 0, 0\\n1, 0]'),\n",
       " Text(84.87887323943661, 32.615999999999985, 'gini = 0.0\\nsamples = 1\\nvalue = [0, 0, 0, 0, 0, 0, 0, 0, 0, 0, 0, 0, 0, 0\\n0, 0, 0, 0, 0, 0, 0, 0, 0, 0, 0, 0, 0, 0\\n1, 0]'),\n",
       " Text(103.74084507042254, 32.615999999999985, 'gini = 0.0\\nsamples = 1\\nvalue = [0, 0, 0, 0, 0, 0, 0, 0, 0, 0, 0, 0, 0, 0\\n0, 0, 0, 1, 0, 0, 0, 0, 0, 0, 0, 0, 0, 0\\n0, 0]'),\n",
       " Text(132.0338028169014, 54.360000000000014, 'X[9] <= 0.5\\ngini = 0.667\\nsamples = 3\\nvalue = [1, 0, 0, 0, 0, 0, 0, 0, 1, 0, 0, 0, 1, 0\\n0, 0, 0, 0, 0, 0, 0, 0, 0, 0, 0, 0, 0, 0\\n0, 0]'),\n",
       " Text(122.60281690140845, 32.615999999999985, 'gini = 0.0\\nsamples = 1\\nvalue = [0, 0, 0, 0, 0, 0, 0, 0, 1, 0, 0, 0, 0, 0\\n0, 0, 0, 0, 0, 0, 0, 0, 0, 0, 0, 0, 0, 0\\n0, 0]'),\n",
       " Text(141.46478873239437, 32.615999999999985, 'X[39] <= 0.5\\ngini = 0.5\\nsamples = 2\\nvalue = [1, 0, 0, 0, 0, 0, 0, 0, 0, 0, 0, 0, 1, 0\\n0, 0, 0, 0, 0, 0, 0, 0, 0, 0, 0, 0, 0, 0\\n0, 0]'),\n",
       " Text(132.0338028169014, 10.872000000000014, 'gini = 0.0\\nsamples = 1\\nvalue = [0, 0, 0, 0, 0, 0, 0, 0, 0, 0, 0, 0, 1, 0\\n0, 0, 0, 0, 0, 0, 0, 0, 0, 0, 0, 0, 0, 0\\n0, 0]'),\n",
       " Text(150.89577464788732, 10.872000000000014, 'gini = 0.0\\nsamples = 1\\nvalue = [1, 0, 0, 0, 0, 0, 0, 0, 0, 0, 0, 0, 0, 0\\n0, 0, 0, 0, 0, 0, 0, 0, 0, 0, 0, 0, 0, 0\\n0, 0]'),\n",
       " Text(160.32676056338028, 76.10399999999998, 'X[25] <= 0.5\\ngini = 0.5\\nsamples = 2\\nvalue = [0, 1, 0, 0, 0, 0, 0, 0, 0, 0, 0, 0, 0, 0\\n0, 0, 0, 0, 0, 0, 0, 1, 0, 0, 0, 0, 0, 0\\n0, 0]'),\n",
       " Text(150.89577464788732, 54.360000000000014, 'gini = 0.0\\nsamples = 1\\nvalue = [0, 1, 0, 0, 0, 0, 0, 0, 0, 0, 0, 0, 0, 0\\n0, 0, 0, 0, 0, 0, 0, 0, 0, 0, 0, 0, 0, 0\\n0, 0]'),\n",
       " Text(169.75774647887323, 54.360000000000014, 'gini = 0.0\\nsamples = 1\\nvalue = [0, 0, 0, 0, 0, 0, 0, 0, 0, 0, 0, 0, 0, 0\\n0, 0, 0, 0, 0, 0, 0, 1, 0, 0, 0, 0, 0, 0\\n0, 0]'),\n",
       " Text(110.81408450704225, 119.592, 'gini = 0.0\\nsamples = 1\\nvalue = [0, 0, 0, 0, 0, 0, 0, 0, 0, 0, 0, 0, 0, 0\\n0, 0, 0, 0, 0, 0, 1, 0, 0, 0, 0, 0, 0, 0\\n0, 0]'),\n",
       " Text(120.2450704225352, 141.336, 'gini = 0.0\\nsamples = 1\\nvalue = [0, 0, 0, 0, 0, 0, 0, 0, 0, 0, 0, 0, 0, 1\\n0, 0, 0, 0, 0, 0, 0, 0, 0, 0, 0, 0, 0, 0\\n0, 0]'),\n",
       " Text(193.33521126760564, 163.07999999999998, 'X[0] <= 0.5\\ngini = 0.833\\nsamples = 6\\nvalue = [0, 0, 0, 0, 0, 0, 1, 0, 0, 1, 0, 1, 0, 0\\n0, 0, 0, 0, 1, 1, 0, 0, 1, 0, 0, 0, 0, 0\\n0, 0]'),\n",
       " Text(174.4732394366197, 141.336, 'X[18] <= 0.5\\ngini = 0.667\\nsamples = 3\\nvalue = [0, 0, 0, 0, 0, 0, 0, 0, 0, 1, 0, 1, 0, 0\\n0, 0, 0, 0, 1, 0, 0, 0, 0, 0, 0, 0, 0, 0\\n0, 0]'),\n",
       " Text(165.04225352112675, 119.592, 'X[32] <= 0.5\\ngini = 0.5\\nsamples = 2\\nvalue = [0, 0, 0, 0, 0, 0, 0, 0, 0, 1, 0, 1, 0, 0\\n0, 0, 0, 0, 0, 0, 0, 0, 0, 0, 0, 0, 0, 0\\n0, 0]'),\n",
       " Text(155.6112676056338, 97.848, 'gini = 0.0\\nsamples = 1\\nvalue = [0, 0, 0, 0, 0, 0, 0, 0, 0, 1, 0, 0, 0, 0\\n0, 0, 0, 0, 0, 0, 0, 0, 0, 0, 0, 0, 0, 0\\n0, 0]'),\n",
       " Text(174.4732394366197, 97.848, 'gini = 0.0\\nsamples = 1\\nvalue = [0, 0, 0, 0, 0, 0, 0, 0, 0, 0, 0, 1, 0, 0\\n0, 0, 0, 0, 0, 0, 0, 0, 0, 0, 0, 0, 0, 0\\n0, 0]'),\n",
       " Text(183.90422535211266, 119.592, 'gini = 0.0\\nsamples = 1\\nvalue = [0, 0, 0, 0, 0, 0, 0, 0, 0, 0, 0, 0, 0, 0\\n0, 0, 0, 0, 1, 0, 0, 0, 0, 0, 0, 0, 0, 0\\n0, 0]'),\n",
       " Text(212.19718309859155, 141.336, 'X[30] <= 0.5\\ngini = 0.667\\nsamples = 3\\nvalue = [0, 0, 0, 0, 0, 0, 1, 0, 0, 0, 0, 0, 0, 0\\n0, 0, 0, 0, 0, 1, 0, 0, 1, 0, 0, 0, 0, 0\\n0, 0]'),\n",
       " Text(202.7661971830986, 119.592, 'gini = 0.5\\nsamples = 2\\nvalue = [0, 0, 0, 0, 0, 0, 1, 0, 0, 0, 0, 0, 0, 0\\n0, 0, 0, 0, 0, 0, 0, 0, 1, 0, 0, 0, 0, 0\\n0, 0]'),\n",
       " Text(221.6281690140845, 119.592, 'gini = 0.0\\nsamples = 1\\nvalue = [0, 0, 0, 0, 0, 0, 0, 0, 0, 0, 0, 0, 0, 0\\n0, 0, 0, 0, 0, 1, 0, 0, 0, 0, 0, 0, 0, 0\\n0, 0]'),\n",
       " Text(292.3605633802817, 184.824, 'X[27] <= 0.5\\ngini = 0.9\\nsamples = 10\\nvalue = [0, 0, 0, 0, 1, 0, 0, 0, 0, 0, 1, 0, 0, 0\\n1, 1, 1, 0, 0, 0, 0, 0, 0, 1, 1, 1, 0, 1\\n0, 1]'),\n",
       " Text(268.7830985915493, 163.07999999999998, 'X[1] <= 0.5\\ngini = 0.857\\nsamples = 7\\nvalue = [0, 0, 0, 0, 1, 0, 0, 0, 0, 0, 1, 0, 0, 0\\n1, 0, 1, 0, 0, 0, 0, 0, 0, 1, 1, 0, 0, 0\\n0, 1]'),\n",
       " Text(259.3521126760563, 141.336, 'X[32] <= 0.5\\ngini = 0.833\\nsamples = 6\\nvalue = [0, 0, 0, 0, 1, 0, 0, 0, 0, 0, 1, 0, 0, 0\\n1, 0, 1, 0, 0, 0, 0, 0, 0, 1, 1, 0, 0, 0\\n0, 0]'),\n",
       " Text(240.4901408450704, 119.592, 'X[22] <= 0.5\\ngini = 0.5\\nsamples = 2\\nvalue = [0, 0, 0, 0, 0, 0, 0, 0, 0, 0, 1, 0, 0, 0\\n1, 0, 0, 0, 0, 0, 0, 0, 0, 0, 0, 0, 0, 0\\n0, 0]'),\n",
       " Text(231.05915492957746, 97.848, 'gini = 0.0\\nsamples = 1\\nvalue = [0, 0, 0, 0, 0, 0, 0, 0, 0, 0, 1, 0, 0, 0\\n0, 0, 0, 0, 0, 0, 0, 0, 0, 0, 0, 0, 0, 0\\n0, 0]'),\n",
       " Text(249.92112676056337, 97.848, 'gini = 0.0\\nsamples = 1\\nvalue = [0, 0, 0, 0, 0, 0, 0, 0, 0, 0, 0, 0, 0, 0\\n1, 0, 0, 0, 0, 0, 0, 0, 0, 0, 0, 0, 0, 0\\n0, 0]'),\n",
       " Text(278.21408450704223, 119.592, 'X[23] <= 0.5\\ngini = 0.75\\nsamples = 4\\nvalue = [0, 0, 0, 0, 1, 0, 0, 0, 0, 0, 0, 0, 0, 0\\n0, 0, 1, 0, 0, 0, 0, 0, 0, 1, 1, 0, 0, 0\\n0, 0]'),\n",
       " Text(268.7830985915493, 97.848, 'X[5] <= 0.5\\ngini = 0.667\\nsamples = 3\\nvalue = [0, 0, 0, 0, 1, 0, 0, 0, 0, 0, 0, 0, 0, 0\\n0, 0, 1, 0, 0, 0, 0, 0, 0, 0, 1, 0, 0, 0\\n0, 0]'),\n",
       " Text(259.3521126760563, 76.10399999999998, 'gini = 0.0\\nsamples = 1\\nvalue = [0, 0, 0, 0, 1, 0, 0, 0, 0, 0, 0, 0, 0, 0\\n0, 0, 0, 0, 0, 0, 0, 0, 0, 0, 0, 0, 0, 0\\n0, 0]'),\n",
       " Text(278.21408450704223, 76.10399999999998, 'gini = 0.5\\nsamples = 2\\nvalue = [0, 0, 0, 0, 0, 0, 0, 0, 0, 0, 0, 0, 0, 0\\n0, 0, 1, 0, 0, 0, 0, 0, 0, 0, 1, 0, 0, 0\\n0, 0]'),\n",
       " Text(287.6450704225352, 97.848, 'gini = 0.0\\nsamples = 1\\nvalue = [0, 0, 0, 0, 0, 0, 0, 0, 0, 0, 0, 0, 0, 0\\n0, 0, 0, 0, 0, 0, 0, 0, 0, 1, 0, 0, 0, 0\\n0, 0]'),\n",
       " Text(278.21408450704223, 141.336, 'gini = 0.0\\nsamples = 1\\nvalue = [0, 0, 0, 0, 0, 0, 0, 0, 0, 0, 0, 0, 0, 0\\n0, 0, 0, 0, 0, 0, 0, 0, 0, 0, 0, 0, 0, 0\\n0, 1]'),\n",
       " Text(315.9380281690141, 163.07999999999998, 'X[4] <= 0.5\\ngini = 0.667\\nsamples = 3\\nvalue = [0, 0, 0, 0, 0, 0, 0, 0, 0, 0, 0, 0, 0, 0\\n0, 1, 0, 0, 0, 0, 0, 0, 0, 0, 0, 1, 0, 1\\n0, 0]'),\n",
       " Text(306.50704225352115, 141.336, 'X[25] <= 0.5\\ngini = 0.5\\nsamples = 2\\nvalue = [0, 0, 0, 0, 0, 0, 0, 0, 0, 0, 0, 0, 0, 0\\n0, 1, 0, 0, 0, 0, 0, 0, 0, 0, 0, 1, 0, 0\\n0, 0]'),\n",
       " Text(297.07605633802814, 119.592, 'gini = 0.0\\nsamples = 1\\nvalue = [0, 0, 0, 0, 0, 0, 0, 0, 0, 0, 0, 0, 0, 0\\n0, 0, 0, 0, 0, 0, 0, 0, 0, 0, 0, 1, 0, 0\\n0, 0]'),\n",
       " Text(315.9380281690141, 119.592, 'gini = 0.0\\nsamples = 1\\nvalue = [0, 0, 0, 0, 0, 0, 0, 0, 0, 0, 0, 0, 0, 0\\n0, 1, 0, 0, 0, 0, 0, 0, 0, 0, 0, 0, 0, 0\\n0, 0]'),\n",
       " Text(325.36901408450706, 141.336, 'gini = 0.0\\nsamples = 1\\nvalue = [0, 0, 0, 0, 0, 0, 0, 0, 0, 0, 0, 0, 0, 0\\n0, 0, 0, 0, 0, 0, 0, 0, 0, 0, 0, 0, 0, 1\\n0, 0]')]"
      ]
     },
     "execution_count": 5,
     "metadata": {},
     "output_type": "execute_result"
    },
    {
     "data": {
      "image/png": "[encoded data removed]",
      "text/plain": [
       "<Figure size 432x288 with 1 Axes>"
      ]
     },
     "metadata": {
      "needs_background": "light"
     },
     "output_type": "display_data"
    }
   ],
   "source": [
    "# Visualize the decision tree\n",
    "plot_tree(model)"
   ]
  },
  {
   "cell_type": "code",
   "execution_count": 6,
   "id": "eeac020a",
   "metadata": {},
   "outputs": [
    {
     "name": "stdout",
     "output_type": "stream",
     "text": [
      "Please answer the following questions to receive a vacation recommendation:\n",
      "What type of vacation are you looking for? (relaxation, adventure, culture): culture\n",
      "Which region of India do you prefer? (north, south, east, west): east\n",
      "What is your budget range? (low, medium, high): medium\n",
      "Which outdoor activities do you prefer? (hiking, cycling, water sports, etc.): museum\n",
      "Which indoor activities do you prefer? (museums, shopping, spa, etc.): shopping\n",
      "Which historical monuments do you wanna visit? (monument, church, nature_park, temple, etc.): monument\n",
      "Which modern attractions do you prefer? (shopping, mall, nightlife, etc.): nightlife\n",
      "Do you prefer the beach or the mountains? (beach, mountain, none): no\n",
      "How many recommendations would you like? 1\n"
     ]
    }
   ],
   "source": [
    "# Use the model to make a recommendation\n",
    "print(\"Please answer the following questions to receive a vacation recommendation:\")\n",
    "answer1 = input(\"What type of vacation are you looking for? (relaxation, adventure, culture): \")\n",
    "answer2 = input(\"Which region of India do you prefer? (north, south, east, west): \")\n",
    "answer3 = input(\"What is your budget range? (low, medium, high): \")\n",
    "# answer4 = input(\"Do you prefer outdoor or indoor activities? (outdoor, indoor, no preference): \")\n",
    "# if answer4 == \"outdoor\":\n",
    "answer4 = input(\"Which outdoor activities do you prefer? (hiking, cycling, water sports, etc.): \")\n",
    "# else:\n",
    "answer5 = input(\"Which indoor activities do you prefer? (museums, shopping, spa, etc.): \")\n",
    "# answer6 = input(\"Do you prefer historical landmarks or modern attractions? (historical, modern, none): \")\n",
    "# if answer6 == \"historical\":\n",
    "answer6 = input(\"Which historical monuments do you wanna visit? (monument, church, nature_park, temple, etc.): \")\n",
    "# else:\n",
    "answer7 = input(\"Which modern attractions do you prefer? (shopping, mall, nightlife, etc.): \")\n",
    "answer8 = input(\"Do you prefer the beach or the mountains? (beach, mountain, none): \")\n",
    "num_recommendations = int(input(\"How many recommendations would you like? \"))\n",
    "\n",
    "user_input = {\"type\": answer1,\n",
    "              \"region\": answer2,\n",
    "              \"budget\": answer3,\n",
    "              \"outdoor_activity\": answer4,\n",
    "              \"indoor_activity\": answer5,\n",
    "              \"historical_attraction\": answer6,\n",
    "              \"modern_attraction\": answer7,\n",
    "              \"beach\": \"yes\" if answer8 == \"beach\" else \"no\",\n",
    "              \"mountain\": \"yes\" if answer8 == \"mountain\" else \"no\"}\n",
    "\n",
    "user_input_df = pd.DataFrame(user_input, index=[0])"
   ]
  },
  {
   "cell_type": "code",
   "execution_count": 7,
   "id": "3103ae93",
   "metadata": {},
   "outputs": [],
   "source": [
    "# One-hot encode the categorical variables in the user input data\n",
    "user_input_encoded = pd.DataFrame(encoder.transform(user_input_df[features]).toarray(), columns=encoder.get_feature_names_out(features))\n",
    "\n",
    "# Concatenate the encoded categorical variables with the numerical variables in the user input data\n",
    "user_input_processed = pd.concat([user_input_encoded, user_input_df.drop(user_input_df, axis=1)], axis=1)\n",
    "\n",
    "predictions = model.predict(user_input_processed)"
   ]
  },
  {
   "cell_type": "code",
   "execution_count": 8,
   "id": "673ee95f",
   "metadata": {},
   "outputs": [
    {
     "name": "stdout",
     "output_type": "stream",
     "text": [
      "Based on your answers, we recommend the following 1 vacation destinations:\n",
      "['Kolkata']\n"
     ]
    }
   ],
   "source": [
    "# Print the recommendations\n",
    "recommendations = data[data[\"destination\"].isin(predictions)]\n",
    "num_matches = len(recommendations)\n",
    "\n",
    "if num_matches >= num_recommendations:\n",
    "    recommendations = recommendations.sample(n=num_recommendations, replace=False)\n",
    "    print(f\"Based on your answers, we recommend the following {num_recommendations} vacation destinations:\")\n",
    "else:\n",
    "    recommendations = recommendations.sample(n=num_matches, replace=False)\n",
    "    print(f\"Based on your answers, we recommend the following {num_matches} vacation destinations:\")\n",
    "\n",
    "print(recommendations[\"destination\"].tolist())"
   ]
  }
 ],
 "metadata": {
  "kernelspec": {
   "display_name": "Python 3 (ipykernel)",
   "language": "python",
   "name": "python3"
  },
  "language_info": {
   "codemirror_mode": {
    "name": "ipython",
    "version": 3
   },
   "file_extension": ".py",
   "mimetype": "text/x-python",
   "name": "python",
   "nbconvert_exporter": "python",
   "pygments_lexer": "ipython3",
   "version": "3.9.6"
  }
 },
 "nbformat": 4,
 "nbformat_minor": 5
}
