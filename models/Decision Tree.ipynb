{
 "cells": [
  {
   "cell_type": "code",
   "execution_count": 3,
   "id": "10ac2955",
   "metadata": {},
   "outputs": [
    {
     "name": "stdout",
     "output_type": "stream",
     "text": [
      "Please answer the following questions to receive a vacation recommendation:\n",
      "What type of vacation are you looking for? (relaxation, adventure, culture): culture\n",
      "Which region of India do you prefer? (north, south, east, west): east\n",
      "What is your budget range? (low, medium, high): medium\n",
      "Which outdoor activities do you prefer? (hiking, cycling, water sports, etc.): museum\n",
      "Which indoor activities do you prefer? (museums, shopping, spa, etc.): shopping\n",
      "Which historical monuments do you wanna visit? (monument, church, nature_park, temple, etc.): monument\n",
      "Which modern attractions do you prefer? (shopping, mall, nightlife, etc.): nightlife\n",
      "Do you prefer the beach or the mountains? (beach, mountain, none): none\n",
      "How many recommendations would you like? 10\n",
      "Based on your answers, we recommend the following 1 vacation destinations:\n",
      "['Kolkata']\n"
     ]
    },
    {
     "data": {
      "image/png": "[encoded data removed]",
      "text/plain": [
       "<Figure size 432x288 with 1 Axes>"
      ]
     },
     "metadata": {
      "needs_background": "light"
     },
     "output_type": "display_data"
    }
   ],
   "source": [
    "import pandas as pd\n",
    "from sklearn.tree import DecisionTreeClassifier, plot_tree\n",
    "from sklearn.preprocessing import OneHotEncoder\n",
    "\n",
    "data = pd.read_csv(\"indian_tourist_locations.csv\")\n",
    "\n",
    "X = data.drop('destination', axis=1)\n",
    "y = data['destination']\n",
    "\n",
    "features = [\"type\", \"region\", \"budget\", \"outdoor_activity\", \"indoor_activity\", \"historical_attraction\", \"modern_attraction\", \"beach\", \"mountain\"]\n",
    "encoder = OneHotEncoder(handle_unknown='ignore')\n",
    "X_encoded = pd.DataFrame(encoder.fit_transform(X[features]).toarray(), columns=encoder.get_feature_names_out(features))\n",
    "\n",
    "# Concatenate the encoded categorical variables with the numerical variables\n",
    "X = pd.concat([X_encoded, X.drop(features, axis=1)], axis=1)\n",
    "\n",
    "# Train the decision tree model\n",
    "model = DecisionTreeClassifier()\n",
    "model.fit(X, y)\n",
    "\n",
    "# Visualize the decision tree\n",
    "plot_tree(model)\n",
    "\n",
    "# Use the model to make a recommendation\n",
    "print(\"Please answer the following questions to receive a vacation recommendation:\")\n",
    "answer1 = input(\"What type of vacation are you looking for? (relaxation, adventure, culture): \")\n",
    "answer2 = input(\"Which region of India do you prefer? (north, south, east, west): \")\n",
    "answer3 = input(\"What is your budget range? (low, medium, high): \")\n",
    "# answer4 = input(\"Do you prefer outdoor or indoor activities? (outdoor, indoor, no preference): \")\n",
    "# if answer4 == \"outdoor\":\n",
    "answer4 = input(\"Which outdoor activities do you prefer? (hiking, cycling, water sports, etc.): \")\n",
    "# else:\n",
    "answer5 = input(\"Which indoor activities do you prefer? (museums, shopping, spa, etc.): \")\n",
    "# answer6 = input(\"Do you prefer historical landmarks or modern attractions? (historical, modern, none): \")\n",
    "# if answer6 == \"historical\":\n",
    "answer6 = input(\"Which historical monuments do you wanna visit? (monument, church, nature_park, temple, etc.): \")\n",
    "# else:\n",
    "answer7 = input(\"Which modern attractions do you prefer? (shopping, mall, nightlife, etc.): \")\n",
    "answer8 = input(\"Do you prefer the beach or the mountains? (beach, mountain, none): \")\n",
    "num_recommendations = int(input(\"How many recommendations would you like? \"))\n",
    "\n",
    "user_input = {\"type\": answer1,\n",
    "              \"region\": answer2,\n",
    "              \"budget\": answer3,\n",
    "              \"outdoor_activity\": answer4,\n",
    "              \"indoor_activity\": answer5,\n",
    "              \"historical_attraction\": answer6,\n",
    "              \"modern_attraction\": answer7,\n",
    "              \"beach\": \"yes\" if answer8 == \"beach\" else \"no\",\n",
    "              \"mountain\": \"yes\" if answer8 == \"mountain\" else \"no\"}\n",
    "\n",
    "user_input_df = pd.DataFrame(user_input, index=[0])\n",
    "\n",
    "# One-hot encode the categorical variables in the user input data\n",
    "user_input_encoded = pd.DataFrame(encoder.transform(user_input_df[features]).toarray(), columns=encoder.get_feature_names_out(features))\n",
    "\n",
    "# Concatenate the encoded categorical variables with the numerical variables in the user input data\n",
    "user_input_processed = pd.concat([user_input_encoded, user_input_df.drop(user_input_df, axis=1)], axis=1)\n",
    "\n",
    "predictions = model.predict(user_input_processed)\n",
    "\n",
    "# Print the recommendations\n",
    "recommendations = data[data[\"destination\"].isin(predictions)]\n",
    "num_matches = len(recommendations)\n",
    "\n",
    "if num_matches >= num_recommendations:\n",
    "    recommendations = recommendations.sample(n=num_recommendations, replace=False)\n",
    "    print(f\"Based on your answers, we recommend the following {num_recommendations} vacation destinations:\")\n",
    "else:\n",
    "    recommendations = recommendations.sample(n=num_matches, replace=False)\n",
    "    print(f\"Based on your answers, we recommend the following {num_matches} vacation destinations:\")\n",
    "\n",
    "print(recommendations[\"destination\"].tolist())"
   ]
  }
 ],
 "metadata": {
  "kernelspec": {
   "display_name": "Python 3 (ipykernel)",
   "language": "python",
   "name": "python3"
  },
  "language_info": {
   "codemirror_mode": {
    "name": "ipython",
    "version": 3
   },
   "file_extension": ".py",
   "mimetype": "text/x-python",
   "name": "python",
   "nbconvert_exporter": "python",
   "pygments_lexer": "ipython3",
   "version": "3.9.6"
  }
 },
 "nbformat": 4,
 "nbformat_minor": 5
}
