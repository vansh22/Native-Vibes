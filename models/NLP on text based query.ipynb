{
 "cells": [
  {
   "cell_type": "code",
   "execution_count": 1,
   "id": "4d424532",
   "metadata": {},
   "outputs": [],
   "source": [
    "import pandas as pd\n",
    "from sklearn.feature_extraction.text import TfidfVectorizer\n",
    "from sklearn.metrics.pairwise import cosine_similarity"
   ]
  },
  {
   "cell_type": "code",
   "execution_count": 2,
   "id": "3bc327b8",
   "metadata": {},
   "outputs": [],
   "source": [
    "destinations = pd.read_csv(\"data.csv\")"
   ]
  },
  {
   "cell_type": "code",
   "execution_count": 3,
   "id": "1e699e54",
   "metadata": {
    "scrolled": true
   },
   "outputs": [
    {
     "data": {
      "text/html": [
       "<div>\n",
       "<style scoped>\n",
       "    .dataframe tbody tr th:only-of-type {\n",
       "        vertical-align: middle;\n",
       "    }\n",
       "\n",
       "    .dataframe tbody tr th {\n",
       "        vertical-align: top;\n",
       "    }\n",
       "\n",
       "    .dataframe thead th {\n",
       "        text-align: right;\n",
       "    }\n",
       "</style>\n",
       "<table border=\"1\" class=\"dataframe\">\n",
       "  <thead>\n",
       "    <tr style=\"text-align: right;\">\n",
       "      <th></th>\n",
       "      <th>City</th>\n",
       "      <th>Rating</th>\n",
       "      <th>Description</th>\n",
       "      <th>Img Link</th>\n",
       "      <th>Best Time</th>\n",
       "    </tr>\n",
       "  </thead>\n",
       "  <tbody>\n",
       "    <tr>\n",
       "      <th>0</th>\n",
       "      <td>Manali</td>\n",
       "      <td>4.5</td>\n",
       "      <td>With spectacular valleys, breathtaking views,...</td>\n",
       "      <td>https://www.holidify.com/images/bgImages/MANAL...</td>\n",
       "      <td>October to June</td>\n",
       "    </tr>\n",
       "    <tr>\n",
       "      <th>1</th>\n",
       "      <td>Leh Ladakh</td>\n",
       "      <td>4.6</td>\n",
       "      <td>Ladakh is a union territory in the Kashmir re...</td>\n",
       "      <td>https://www.holidify.com/images/bgImages/LADAK...</td>\n",
       "      <td>Jun to Sep</td>\n",
       "    </tr>\n",
       "    <tr>\n",
       "      <th>2</th>\n",
       "      <td>Coorg</td>\n",
       "      <td>4.2</td>\n",
       "      <td>Located amidst imposing mountains in Karnatak...</td>\n",
       "      <td>https://www.holidify.com/images/bgImages/COORG...</td>\n",
       "      <td>October to March</td>\n",
       "    </tr>\n",
       "    <tr>\n",
       "      <th>3</th>\n",
       "      <td>Andaman</td>\n",
       "      <td>4.5</td>\n",
       "      <td>Replete with turquoise blue water beaches and...</td>\n",
       "      <td>https://www.holidify.com/images/bgImages/ANDAM...</td>\n",
       "      <td>October to Jun</td>\n",
       "    </tr>\n",
       "    <tr>\n",
       "      <th>4</th>\n",
       "      <td>Lakshadweep</td>\n",
       "      <td>4.0</td>\n",
       "      <td>Formerly known as Laccadive Islands, Lakshadw...</td>\n",
       "      <td>https://www.holidify.com/images/bgImages/LAKSH...</td>\n",
       "      <td>October to Jun</td>\n",
       "    </tr>\n",
       "  </tbody>\n",
       "</table>\n",
       "</div>"
      ],
      "text/plain": [
       "           City  Rating                                        Description  \\\n",
       "0       Manali      4.5   With spectacular valleys, breathtaking views,...   \n",
       "1   Leh Ladakh      4.6   Ladakh is a union territory in the Kashmir re...   \n",
       "2        Coorg      4.2   Located amidst imposing mountains in Karnatak...   \n",
       "3      Andaman      4.5   Replete with turquoise blue water beaches and...   \n",
       "4  Lakshadweep      4.0   Formerly known as Laccadive Islands, Lakshadw...   \n",
       "\n",
       "                                            Img Link         Best Time  \n",
       "0  https://www.holidify.com/images/bgImages/MANAL...   October to June  \n",
       "1  https://www.holidify.com/images/bgImages/LADAK...        Jun to Sep  \n",
       "2  https://www.holidify.com/images/bgImages/COORG...  October to March  \n",
       "3  https://www.holidify.com/images/bgImages/ANDAM...    October to Jun  \n",
       "4  https://www.holidify.com/images/bgImages/LAKSH...    October to Jun  "
      ]
     },
     "execution_count": 3,
     "metadata": {},
     "output_type": "execute_result"
    }
   ],
   "source": [
    "destinations.head()"
   ]
  },
  {
   "cell_type": "markdown",
   "id": "af0596bc",
   "metadata": {},
   "source": [
    "## Data Cleaning"
   ]
  },
  {
   "cell_type": "code",
   "execution_count": 4,
   "id": "dc012796",
   "metadata": {},
   "outputs": [],
   "source": [
    "import re\n",
    "import nltk\n",
    "from nltk.corpus import stopwords\n",
    "from nltk.stem import WordNetLemmatizer"
   ]
  },
  {
   "cell_type": "code",
   "execution_count": 5,
   "id": "f63484f2",
   "metadata": {},
   "outputs": [
    {
     "name": "stderr",
     "output_type": "stream",
     "text": [
      "[nltk_data] Error loading stopwords: <urlopen error [Errno 11001]\n",
      "[nltk_data]     getaddrinfo failed>\n",
      "[nltk_data] Error loading wordnet: <urlopen error [Errno 11001]\n",
      "[nltk_data]     getaddrinfo failed>\n",
      "[nltk_data] Error loading punkt: <urlopen error [Errno 11001]\n",
      "[nltk_data]     getaddrinfo failed>\n"
     ]
    },
    {
     "data": {
      "text/plain": [
       "False"
      ]
     },
     "execution_count": 5,
     "metadata": {},
     "output_type": "execute_result"
    }
   ],
   "source": [
    "nltk.download('stopwords')\n",
    "nltk.download('wordnet')\n",
    "nltk.download('punkt')"
   ]
  },
  {
   "cell_type": "code",
   "execution_count": 6,
   "id": "3378f9de",
   "metadata": {},
   "outputs": [],
   "source": [
    "stop_words = stopwords.words('english')\n",
    "lemmatizer = WordNetLemmatizer()\n",
    "\n",
    "def preprocess_text(text):\n",
    "    # remove URLs and hashtags\n",
    "    text = re.sub(r\"http\\S+\", \"\", text)\n",
    "    text = re.sub(r\"#\\w+\", \"\", text)\n",
    "    # remove non-alphanumeric characters and lowercasing\n",
    "    text = re.sub(r\"[^a-zA-Z0-9]\", \" \", text.lower())\n",
    "    # tokenize the text\n",
    "    words = nltk.word_tokenize(text)\n",
    "    # remove stop words and lemmatize the words\n",
    "    words = [lemmatizer.lemmatize(word) for word in words if word not in stop_words]\n",
    "    # join the words back into a string\n",
    "    text = \" \".join(words)\n",
    "    return text"
   ]
  },
  {
   "cell_type": "code",
   "execution_count": 7,
   "id": "5baaee8a",
   "metadata": {},
   "outputs": [],
   "source": [
    "destinations['Clean_description'] = destinations['Description'].apply(preprocess_text)"
   ]
  },
  {
   "cell_type": "code",
   "execution_count": 8,
   "id": "e29af874",
   "metadata": {},
   "outputs": [],
   "source": [
    "pd.set_option('display.max_colwidth', None)"
   ]
  },
  {
   "cell_type": "code",
   "execution_count": 9,
   "id": "f1013f37",
   "metadata": {
    "scrolled": true
   },
   "outputs": [
    {
     "data": {
      "text/plain": [
       "0                         spectacular valley breathtaking view snowcapped mountain lush forest oak deodar pine manali magical hill station northern end kullu valley himachal pradesh gifted world mighty himalaya known one popular destination\n",
       "1                  ladakh union territory kashmir region india formerly falling state jammu kashmir ladakh administered union territory 31st october 2019 extending siachen glacier main great himalaya ladakh land like dominated dramatic land\n",
       "2                             located amidst imposing mountain karnataka perpetually misty landscape coorg popular coffee producing hill station popular beautiful green hill stream cutting right also stand popular destination culture people\n",
       "3                      replete turquoise blue water beach bit history andaman nicobar island little slice paradise tucked around 1 400 km away east coast mainland india port blair capital union territory major airport seaport connected rest\n",
       "4                       formerly known laccadive island lakshadweep translates one hundred thousand island malayalam home beautiful exotic island beach india lakshadweep lie 400km southwest coast arabian sea smallest union territory india n\n",
       "                                                                                                                         ...                                                                                                                    \n",
       "95                        pushka small temple town located around 15 km ajmer rajasthan perfect choice weekend getaway jaipur pushkar array cafe hostel backpacking trip every november pushkar host pushkar mela one biggest camel fair country\n",
       "96                located south eastern rajasthan chittorgarh known chittorgarh fort largest fort india built hilltop spreading area around 700 acre capital erstwhile kingdom mewar magnificent fortress always remembered courageous self sacr\n",
       "97                                            away buzzing crowd city nahan perfect romantic getaway lying among lofty shivalik range overlooking lush green field dirt free road clean street small hill station serf ideal holiday destination\n",
       "98    known india newest hill station lavasa corporation constructing private city city beautiful project stylistically based italian town portofino spreading across 7 hill covering area 25000 acre lavasa perfect blend beauty infrastructure\n",
       "99                                                                                                                   poovar small rustic town situated 27 km thiruvananthapuram unspoilt unexplored golden sand beach beautiful backwater kerala\n",
       "Name: Clean_description, Length: 100, dtype: object"
      ]
     },
     "execution_count": 9,
     "metadata": {},
     "output_type": "execute_result"
    }
   ],
   "source": [
    "destinations['Clean_description']"
   ]
  },
  {
   "cell_type": "markdown",
   "id": "e56e65f1",
   "metadata": {},
   "source": [
    "## Text Representation"
   ]
  },
  {
   "cell_type": "code",
   "execution_count": 10,
   "id": "895590ee",
   "metadata": {},
   "outputs": [],
   "source": [
    "vectorizer = TfidfVectorizer()\n",
    "destination_vectors = vectorizer.fit_transform(destinations['Clean_description'])"
   ]
  },
  {
   "cell_type": "markdown",
   "id": "6f5e6764",
   "metadata": {},
   "source": [
    "## Text Similarity"
   ]
  },
  {
   "cell_type": "code",
   "execution_count": 11,
   "id": "d5b8a5cd",
   "metadata": {},
   "outputs": [],
   "source": [
    "def recommend_destinations(query, n=10):\n",
    "    query_vector = vectorizer.transform([query])\n",
    "    similarity_scores = cosine_similarity(query_vector, destination_vectors).flatten()\n",
    "    ranked_indices = similarity_scores.argsort()[::-1][:n]\n",
    "    recommended_destinations = destinations.iloc[ranked_indices]\n",
    "    return recommended_destinations"
   ]
  },
  {
   "cell_type": "markdown",
   "id": "5416003f",
   "metadata": {},
   "source": [
    "## Recommendation"
   ]
  },
  {
   "cell_type": "code",
   "execution_count": 12,
   "id": "3fa594a0",
   "metadata": {},
   "outputs": [
    {
     "data": {
      "text/html": [
       "<div>\n",
       "<style scoped>\n",
       "    .dataframe tbody tr th:only-of-type {\n",
       "        vertical-align: middle;\n",
       "    }\n",
       "\n",
       "    .dataframe tbody tr th {\n",
       "        vertical-align: top;\n",
       "    }\n",
       "\n",
       "    .dataframe thead th {\n",
       "        text-align: right;\n",
       "    }\n",
       "</style>\n",
       "<table border=\"1\" class=\"dataframe\">\n",
       "  <thead>\n",
       "    <tr style=\"text-align: right;\">\n",
       "      <th></th>\n",
       "      <th>City</th>\n",
       "      <th>Rating</th>\n",
       "      <th>Description</th>\n",
       "      <th>Img Link</th>\n",
       "      <th>Best Time</th>\n",
       "      <th>Clean_description</th>\n",
       "    </tr>\n",
       "  </thead>\n",
       "  <tbody>\n",
       "    <tr>\n",
       "      <th>61</th>\n",
       "      <td>Tirupati</td>\n",
       "      <td>4.5</td>\n",
       "      <td>Situated in the Chittoor district of Andhra Pradesh, Tirupati is known for Lord Venkateshwara Temple, one of the most visited pilgrimage centers in the world. It is also one of the world's richest temples known by different names - Tirumala Temple, Tirupati Temple, and Tirupati Balaji Temple. Tiruma...</td>\n",
       "      <td>https://www.holidify.com/images/bgImages/TIRUPATI.jpg</td>\n",
       "      <td>Throughout the year</td>\n",
       "      <td>situated chittoor district andhra pradesh tirupati known lord venkateshwara temple one visited pilgrimage center world also one world richest temple known different name tirumala temple tirupati temple tirupati balaji temple tiruma</td>\n",
       "    </tr>\n",
       "    <tr>\n",
       "      <th>62</th>\n",
       "      <td>Ujjain</td>\n",
       "      <td>4.4</td>\n",
       "      <td>Ujjain, considered to be one of the holiest cities of India, is an ancient city situated on the eastern bank of the Shipra River in the Malwa region of Madhya Pradesh. Ujjain is one of the four sites for the Kumbh Mela, the largest peace-time gathering on the planet that attracts 100 million people ...</td>\n",
       "      <td>https://www.holidify.com/images/bgImages/UJJAIN.jpg</td>\n",
       "      <td>July to March</td>\n",
       "      <td>ujjain considered one holiest city india ancient city situated eastern bank shipra river malwa region madhya pradesh ujjain one four site kumbh mela largest peace time gathering planet attracts 100 million people</td>\n",
       "    </tr>\n",
       "    <tr>\n",
       "      <th>56</th>\n",
       "      <td>Bodh Gaya</td>\n",
       "      <td>4.4</td>\n",
       "      <td>Bodh Gaya is a Buddhist pilgrimage site in Gaya District of Bihar. Famous for the Mahabodhi Temple, It was here under the Bodhi tree that Gautama Buddha attained enlightenment.</td>\n",
       "      <td>https://www.holidify.com/images/bgImages/BODH-GAYA.jpg</td>\n",
       "      <td>October to June</td>\n",
       "      <td>bodh gaya buddhist pilgrimage site gaya district bihar famous mahabodhi temple bodhi tree gautama buddha attained enlightenment</td>\n",
       "    </tr>\n",
       "    <tr>\n",
       "      <th>83</th>\n",
       "      <td>Bhubaneswar</td>\n",
       "      <td>4.1</td>\n",
       "      <td>Bhubaneswar, the temple city of India, once known for its architecture and grand temples, is presently a thriving centre for commerce and business.</td>\n",
       "      <td>https://www.holidify.com/images/bgImages/BHUBANESWAR.jpg</td>\n",
       "      <td>October to June</td>\n",
       "      <td>bhubaneswar temple city india known architecture grand temple presently thriving centre commerce business</td>\n",
       "    </tr>\n",
       "    <tr>\n",
       "      <th>88</th>\n",
       "      <td>Puri</td>\n",
       "      <td>4.3</td>\n",
       "      <td>Puri in Odisha is one of the four must-visit pilgrimage sites for Hindus because of Jagannath Temple that forms the part of Char Dham in India. Puri is a beach city located on the coast of Bay of Bengal which is one of the favourites among people of West Bengal for a short trip.</td>\n",
       "      <td>https://www.holidify.com/images/bgImages/PURI.jpg</td>\n",
       "      <td>October to Apr</td>\n",
       "      <td>puri odisha one four must visit pilgrimage site hindu jagannath temple form part char dham india puri beach city located coast bay bengal one favourite among people west bengal short trip</td>\n",
       "    </tr>\n",
       "    <tr>\n",
       "      <th>55</th>\n",
       "      <td>Amarnath</td>\n",
       "      <td>4.6</td>\n",
       "      <td>Amarnath, located in union territory of Jammu and Kashmir is one of the most important pilgrimage in India for the worshippers of Lord Shiva. The Amarnath cave has an enshrined Shivaling formed naturally with ice, which resembles Lord Shiva.</td>\n",
       "      <td>https://www.holidify.com/images/bgImages/AMARNATH.jpg</td>\n",
       "      <td>October to March</td>\n",
       "      <td>amarnath located union territory jammu kashmir one important pilgrimage india worshipper lord shiva amarnath cave enshrined shivaling formed naturally ice resembles lord shiva</td>\n",
       "    </tr>\n",
       "    <tr>\n",
       "      <th>82</th>\n",
       "      <td>Thanjavur</td>\n",
       "      <td>4.4</td>\n",
       "      <td>Also known as Tanjore or the city of temples, Thanjavur has a lot of cultural value and is known for its famous Tanjore paintings, antiques and handicrafts, textiles and saris , its Carnatic music and musical instruments and of course the temples.</td>\n",
       "      <td>https://www.holidify.com/images/bgImages/THANJEVUR.jpg</td>\n",
       "      <td>July to March</td>\n",
       "      <td>also known tanjore city temple thanjavur lot cultural value known famous tanjore painting antique handicraft textile sari carnatic music musical instrument course temple</td>\n",
       "    </tr>\n",
       "    <tr>\n",
       "      <th>69</th>\n",
       "      <td>Vrindavan</td>\n",
       "      <td>4.3</td>\n",
       "      <td>One of the oldest cities on the banks of Yamuna, Vrindavan is considered to be one of the most important places of pilgrimage for the devotees of Krishna. It is said that Lord Krishna had spent his childhood in Vrindavan. The name of the city has been derived from Vrinda (meaning basil) and van (mea...</td>\n",
       "      <td>https://www.holidify.com/images/bgImages/VRINDAVAN.jpg</td>\n",
       "      <td>October to June</td>\n",
       "      <td>one oldest city bank yamuna vrindavan considered one important place pilgrimage devotee krishna said lord krishna spent childhood vrindavan name city derived vrinda meaning basil van mea</td>\n",
       "    </tr>\n",
       "    <tr>\n",
       "      <th>41</th>\n",
       "      <td>Haridwar</td>\n",
       "      <td>4.0</td>\n",
       "      <td>Haridwar is one of the seven holiest cities in India, situated in Uttarakhand. It is located where the sacred river Ganga enters the Indo-Gangetic plains for the first time. Dotted with temples, ashrams and narrow lanes across the city, Haridwar is a famous Hindu temple town where millions of d...</td>\n",
       "      <td>https://www.holidify.com/images/bgImages/HARIDWAR.jpg</td>\n",
       "      <td>September to March</td>\n",
       "      <td>haridwar one seven holiest city india situated uttarakhand located sacred river ganga enters indo gangetic plain first time dotted temple ashram narrow lane across city haridwar famous hindu temple town million</td>\n",
       "    </tr>\n",
       "    <tr>\n",
       "      <th>84</th>\n",
       "      <td>Ajmer</td>\n",
       "      <td>3.8</td>\n",
       "      <td>Surrounded by Aravali ranges, the city of Ajmer is most famous for the Ajmer Sharif Dargah of saint Muin-ud-din Chishti. This makes Ajmer one of the most significant places of Islamic pilgrimage in the world. Located at a distance of 130 km from Jaipur and 14 kms from Pushkar in Rajasthan,&amp;nbsp...</td>\n",
       "      <td>https://www.holidify.com/images/bgImages/AJMER.jpg</td>\n",
       "      <td>September to March</td>\n",
       "      <td>surrounded aravali range city ajmer famous ajmer sharif dargah saint muin ud din chishti make ajmer one significant place islamic pilgrimage world located distance 130 km jaipur 14 km pushkar rajasthan nbsp</td>\n",
       "    </tr>\n",
       "  </tbody>\n",
       "</table>\n",
       "</div>"
      ],
      "text/plain": [
       "            City  Rating  \\\n",
       "61     Tirupati      4.5   \n",
       "62       Ujjain      4.4   \n",
       "56    Bodh Gaya      4.4   \n",
       "83  Bhubaneswar      4.1   \n",
       "88         Puri      4.3   \n",
       "55     Amarnath      4.6   \n",
       "82    Thanjavur      4.4   \n",
       "69    Vrindavan      4.3   \n",
       "41     Haridwar      4.0   \n",
       "84        Ajmer      3.8   \n",
       "\n",
       "                                                                                                                                                                                                                                                                                                          Description  \\\n",
       "61   Situated in the Chittoor district of Andhra Pradesh, Tirupati is known for Lord Venkateshwara Temple, one of the most visited pilgrimage centers in the world. It is also one of the world's richest temples known by different names - Tirumala Temple, Tirupati Temple, and Tirupati Balaji Temple. Tiruma...    \n",
       "62   Ujjain, considered to be one of the holiest cities of India, is an ancient city situated on the eastern bank of the Shipra River in the Malwa region of Madhya Pradesh. Ujjain is one of the four sites for the Kumbh Mela, the largest peace-time gathering on the planet that attracts 100 million people ...    \n",
       "56                                                                                                                                  Bodh Gaya is a Buddhist pilgrimage site in Gaya District of Bihar. Famous for the Mahabodhi Temple, It was here under the Bodhi tree that Gautama Buddha attained enlightenment.    \n",
       "83                                                                                                                                                               Bhubaneswar, the temple city of India, once known for its architecture and grand temples, is presently a thriving centre for commerce and business.    \n",
       "88                           Puri in Odisha is one of the four must-visit pilgrimage sites for Hindus because of Jagannath Temple that forms the part of Char Dham in India. Puri is a beach city located on the coast of Bay of Bengal which is one of the favourites among people of West Bengal for a short trip.    \n",
       "55                                                                 Amarnath, located in union territory of Jammu and Kashmir is one of the most important pilgrimage in India for the worshippers of Lord Shiva. The Amarnath cave has an enshrined Shivaling formed naturally with ice, which resembles Lord Shiva.    \n",
       "82                                                           Also known as Tanjore or the city of temples, Thanjavur has a lot of cultural value and is known for its famous Tanjore paintings, antiques and handicrafts, textiles and saris , its Carnatic music and musical instruments and of course the temples.    \n",
       "69   One of the oldest cities on the banks of Yamuna, Vrindavan is considered to be one of the most important places of pilgrimage for the devotees of Krishna. It is said that Lord Krishna had spent his childhood in Vrindavan. The name of the city has been derived from Vrinda (meaning basil) and van (mea...    \n",
       "41        Haridwar is one of the seven holiest cities in India, situated in Uttarakhand. It is located where the sacred river Ganga enters the Indo-Gangetic plains for the first time. Dotted with temples, ashrams and narrow lanes across the city, Haridwar is a famous Hindu temple town where millions of d...    \n",
       "84        Surrounded by Aravali ranges, the city of Ajmer is most famous for the Ajmer Sharif Dargah of saint Muin-ud-din Chishti. This makes Ajmer one of the most significant places of Islamic pilgrimage in the world. Located at a distance of 130 km from Jaipur and 14 kms from Pushkar in Rajasthan,&nbsp...    \n",
       "\n",
       "                                                    Img Link  \\\n",
       "61     https://www.holidify.com/images/bgImages/TIRUPATI.jpg   \n",
       "62       https://www.holidify.com/images/bgImages/UJJAIN.jpg   \n",
       "56    https://www.holidify.com/images/bgImages/BODH-GAYA.jpg   \n",
       "83  https://www.holidify.com/images/bgImages/BHUBANESWAR.jpg   \n",
       "88         https://www.holidify.com/images/bgImages/PURI.jpg   \n",
       "55     https://www.holidify.com/images/bgImages/AMARNATH.jpg   \n",
       "82    https://www.holidify.com/images/bgImages/THANJEVUR.jpg   \n",
       "69    https://www.holidify.com/images/bgImages/VRINDAVAN.jpg   \n",
       "41     https://www.holidify.com/images/bgImages/HARIDWAR.jpg   \n",
       "84        https://www.holidify.com/images/bgImages/AJMER.jpg   \n",
       "\n",
       "              Best Time  \\\n",
       "61  Throughout the year   \n",
       "62        July to March   \n",
       "56      October to June   \n",
       "83      October to June   \n",
       "88       October to Apr   \n",
       "55     October to March   \n",
       "82        July to March   \n",
       "69      October to June   \n",
       "41   September to March   \n",
       "84   September to March   \n",
       "\n",
       "                                                                                                                                                                                                                          Clean_description  \n",
       "61  situated chittoor district andhra pradesh tirupati known lord venkateshwara temple one visited pilgrimage center world also one world richest temple known different name tirumala temple tirupati temple tirupati balaji temple tiruma  \n",
       "62                     ujjain considered one holiest city india ancient city situated eastern bank shipra river malwa region madhya pradesh ujjain one four site kumbh mela largest peace time gathering planet attracts 100 million people  \n",
       "56                                                                                                          bodh gaya buddhist pilgrimage site gaya district bihar famous mahabodhi temple bodhi tree gautama buddha attained enlightenment  \n",
       "83                                                                                                                                bhubaneswar temple city india known architecture grand temple presently thriving centre commerce business  \n",
       "88                                              puri odisha one four must visit pilgrimage site hindu jagannath temple form part char dham india puri beach city located coast bay bengal one favourite among people west bengal short trip  \n",
       "55                                                          amarnath located union territory jammu kashmir one important pilgrimage india worshipper lord shiva amarnath cave enshrined shivaling formed naturally ice resembles lord shiva  \n",
       "82                                                                also known tanjore city temple thanjavur lot cultural value known famous tanjore painting antique handicraft textile sari carnatic music musical instrument course temple  \n",
       "69                                               one oldest city bank yamuna vrindavan considered one important place pilgrimage devotee krishna said lord krishna spent childhood vrindavan name city derived vrinda meaning basil van mea  \n",
       "41                       haridwar one seven holiest city india situated uttarakhand located sacred river ganga enters indo gangetic plain first time dotted temple ashram narrow lane across city haridwar famous hindu temple town million  \n",
       "84                           surrounded aravali range city ajmer famous ajmer sharif dargah saint muin ud din chishti make ajmer one significant place islamic pilgrimage world located distance 130 km jaipur 14 km pushkar rajasthan nbsp  "
      ]
     },
     "execution_count": 12,
     "metadata": {},
     "output_type": "execute_result"
    }
   ],
   "source": [
    "# query = \"I love clubs. #nightlife\"\n",
    "# query = \"clubs #nightlife\"\n",
    "# query = \"I love to visit temples\"\n",
    "# query = \"I love beaches. #boating\"\n",
    "query = \"temple, pilgrimage, peace\" \n",
    "recommend_destinations(query)"
   ]
  },
  {
   "cell_type": "markdown",
   "id": "e46086e4",
   "metadata": {},
   "source": [
    "## Saving the model"
   ]
  },
  {
   "cell_type": "code",
   "execution_count": 13,
   "id": "51c74d3f",
   "metadata": {},
   "outputs": [],
   "source": [
    "import pickle\n",
    "\n",
    "with open('model.pickle', 'wb') as f:\n",
    "    pickle.dump(recommend_destinations, f)"
   ]
  }
 ],
 "metadata": {
  "kernelspec": {
   "display_name": "Python 3 (ipykernel)",
   "language": "python",
   "name": "python3"
  },
  "language_info": {
   "codemirror_mode": {
    "name": "ipython",
    "version": 3
   },
   "file_extension": ".py",
   "mimetype": "text/x-python",
   "name": "python",
   "nbconvert_exporter": "python",
   "pygments_lexer": "ipython3",
   "version": "3.9.6"
  }
 },
 "nbformat": 4,
 "nbformat_minor": 5
}
